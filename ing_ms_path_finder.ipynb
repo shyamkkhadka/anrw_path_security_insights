{
 "cells": [
  {
   "cell_type": "code",
   "execution_count": null,
   "id": "add8a4d1",
   "metadata": {},
   "outputs": [],
   "source": [
    "# Finds the path between a source ASN and a destination ASN \n",
    "import pybgpstream\n",
    "\n",
    "import networkx as nx\n",
    "\n",
    "import matplotlib.pyplot as plt\n",
    "import pandas as pd\n",
    "import csv\n",
    "\n",
    "# Convert ASes on AS_Path attribute to list\n",
    "def as_path_to_list(as_path):\n",
    "    \n",
    "    as_list = []\n",
    "\n",
    "    for asn in as_path:\n",
    "        as_list.append(int(asn))\n",
    "\n",
    "    return(as_list)\n",
    "\n",
    "def add_edge_to_graph(graph, as_path):\n",
    "    path_len = len(as_path)\n",
    "    for k,asn in enumerate(as_path):\n",
    "        if (k+1) is not path_len:\n",
    "            graph.add_edge(as_path[k],as_path[k+1])\n",
    "\n",
    "# Find paths from MS ASN to route collectors\n",
    "def as_path_ms_rc(graph):\n",
    "    stream = pybgpstream.BGPStream(\n",
    "        from_time=\"2024-02-14 00:00:01 CET\",\n",
    "        until_time=\"2024-03-14 23:59:00 CET\",\n",
    "        collectors=[\"rrc00\", \"rrc03\", \"rrc25\", \"route-views.amsix\" ],\n",
    "        record_type=\"ribs\",     \n",
    "        filter = 'prefix less 52.101.0.0/16 and path _8075' \n",
    "       )\n",
    "    stream.set_data_interface_option(\"broker\", \"cache-dir\", \"/home/shyam/jupy/cache\")\n",
    "    \n",
    "    # Find paths from MS ASN to route collectors\n",
    "    for rec in stream.records():\n",
    "        for elem in rec:\n",
    "            #print(elem)\n",
    "            as_path1 = as_path_to_list(elem.fields[\"as-path\"].split())\n",
    "            #print(\"AS path from MS to RC is \", as_path1)\n",
    "            add_edge_to_graph(graph, as_path1)\n",
    "    return graph\n",
    "\n",
    "# Find paths from ING ASN to route collectors\n",
    "def as_path_ing_rc(graph):\n",
    "    stream = pybgpstream.BGPStream(\n",
    "        from_time=\"2024-02-14 00:00:01 CET\",\n",
    "        until_time=\"2024-03-14 23:59:00 CET\",\n",
    "        collectors=[\"rrc00\", \"rrc03\", \"rrc25\", \"route-views.amsix\"],\n",
    "        record_type=\"ribs\",     \n",
    "            filter = 'path _56517' \n",
    "       )\n",
    "    stream.set_data_interface_option(\"broker\", \"cache-dir\", \"/home/shyam/jupy/cache\")\n",
    "    \n",
    "    # Find paths from MS ASN to route collectors\n",
    "    for rec in stream.records():\n",
    "        for elem in rec:\n",
    "            #print(elem)\n",
    "            as_path2 = as_path_to_list(elem.fields[\"as-path\"].split())\n",
    "            #print(\"AS path from ING to RC is \", as_path2)\n",
    "            add_edge_to_graph(graph, as_path2)\n",
    "    return graph"
   ]
  },
  {
   "cell_type": "code",
   "execution_count": null,
   "id": "80775f7c",
   "metadata": {},
   "outputs": [],
   "source": [
    "# Change source and destination as per requirments here\n",
    "source = \"15916\" \n",
    "dest = \"8075\"\n",
    "graph = nx.Graph()\n",
    "graph1 = as_path_ms_rc(graph)\n",
    "\n"
   ]
  },
  {
   "cell_type": "code",
   "execution_count": null,
   "id": "48acb0bb",
   "metadata": {},
   "outputs": [],
   "source": [
    "print(graph1)"
   ]
  },
  {
   "cell_type": "code",
   "execution_count": null,
   "id": "20e0d238",
   "metadata": {},
   "outputs": [],
   "source": [
    "# Dump MS annoucement into a graph object\n",
    "import pickle\n",
    "\n",
    "# Dump graph object into pickle form\n",
    "with open('/home/shyam/phd-work/datasets/critical_infra_nl/pickle_file_path_ms_announcement_02_14_03_14_collector_limit_routeviews.p', 'wb') as pickleFile:\n",
    "    pickle.dump(graph1, pickleFile)"
   ]
  },
  {
   "cell_type": "code",
   "execution_count": null,
   "id": "ebbaf6fe",
   "metadata": {},
   "outputs": [],
   "source": [
    "print(graph1)"
   ]
  },
  {
   "cell_type": "code",
   "execution_count": 1,
   "id": "51329fc8",
   "metadata": {},
   "outputs": [
    {
     "name": "stdout",
     "output_type": "stream",
     "text": [
      "Graph with 174 nodes and 197 edges\n"
     ]
    }
   ],
   "source": [
    "import pickle\n",
    "# Unpickle a pickle file to get a Graph object\n",
    "with open('/home/shyam/phd-work/datasets/critical_infra_nl/pickle_file_path_ms_announcement_02_14_03_14_collector_limit_routeviews.p', 'rb') as pickleFile:\n",
    "    graph_ms = pickle.load(pickleFile)\n",
    "print(graph_ms)"
   ]
  },
  {
   "cell_type": "code",
   "execution_count": null,
   "id": "96daf7ae",
   "metadata": {},
   "outputs": [],
   "source": [
    "# Merge a graph obtained from MS announcement to new graph\n",
    "graph2 = as_path_ing_rc(graph_ms)"
   ]
  },
  {
   "cell_type": "code",
   "execution_count": null,
   "id": "939b2007",
   "metadata": {},
   "outputs": [],
   "source": [
    "print(graph2)"
   ]
  },
  {
   "cell_type": "code",
   "execution_count": null,
   "id": "daeb5790",
   "metadata": {},
   "outputs": [],
   "source": [
    "# Dump MS annoucement into a graph object\n",
    "import pickle\n",
    "\n",
    "# Dump graph object into pickle form\n",
    "with open('/home/shyam/phd-work/datasets/critical_infra_nl/pickle_file_path_abn_ms_02_14_03_14_collector_limit_routeviews.p', 'wb') as pickleFile:\n",
    "    pickle.dump(graph2, pickleFile)"
   ]
  },
  {
   "cell_type": "code",
   "execution_count": 2,
   "id": "e5c8a04e",
   "metadata": {},
   "outputs": [
    {
     "name": "stdout",
     "output_type": "stream",
     "text": [
      "Graph with 201 nodes and 360 edges\n"
     ]
    }
   ],
   "source": [
    "import pickle\n",
    "# Unpickle a pickle file to get a Graph object\n",
    "with open('/home/shyam/phd-work/datasets/critical_infra_nl/pickle_file_path_abn_ms_02_14_03_14_collector_limit_routeviews.p', 'rb') as pickleFile:\n",
    "    graph_new = pickle.load(pickleFile)\n",
    "print(graph_new)"
   ]
  },
  {
   "cell_type": "code",
   "execution_count": 3,
   "id": "510773af",
   "metadata": {},
   "outputs": [],
   "source": [
    "import networkx as nx\n",
    "import pandas as pd\n",
    "source = \"15916\"\n",
    "dest = \"8075\"\n",
    "\n",
    "# Get all the paths with cutoff = 5 (No. of nodes between a source and a destination)\n",
    "paths = nx.all_simple_paths(graph_new, int(source), int(dest), cutoff=5)\n",
    "\n",
    "\n",
    "# Save all the paths into a file    \n",
    "df = pd.DataFrame(paths)\n",
    "df.to_csv('/home/shyam/phd-work/datasets/critical_infra_nl/path_ms_abn_02_14_03_14_cutoff_05_collector_limit_routviews.csv', index=False, header=False)    \n"
   ]
  },
  {
   "cell_type": "code",
   "execution_count": null,
   "id": "466d632a",
   "metadata": {},
   "outputs": [],
   "source": [
    "print(df)"
   ]
  },
  {
   "cell_type": "code",
   "execution_count": null,
   "id": "0f40e4ac",
   "metadata": {},
   "outputs": [],
   "source": [
    "print(df)"
   ]
  },
  {
   "cell_type": "code",
   "execution_count": null,
   "id": "3a497e90",
   "metadata": {},
   "outputs": [],
   "source": [
    "import pandas as pd\n",
    "df = pd.read_csv(\"/home/shyam/phd-work/datasets/critical_infra_nl/path_ms_eneco_02_14_18_cutoff_08_collector_limit.csv\")\n",
    "\n",
    "print(len(df))\n",
    "#print(df[df[\"1273\"] == 702])"
   ]
  }
 ],
 "metadata": {
  "kernelspec": {
   "display_name": "Python 3 (ipykernel)",
   "language": "python",
   "name": "python3"
  },
  "language_info": {
   "codemirror_mode": {
    "name": "ipython",
    "version": 3
   },
   "file_extension": ".py",
   "mimetype": "text/x-python",
   "name": "python",
   "nbconvert_exporter": "python",
   "pygments_lexer": "ipython3",
   "version": "3.10.12"
  }
 },
 "nbformat": 4,
 "nbformat_minor": 5
}
